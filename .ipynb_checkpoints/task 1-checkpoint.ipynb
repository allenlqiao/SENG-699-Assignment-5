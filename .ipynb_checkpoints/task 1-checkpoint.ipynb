{
 "cells": [
  {
   "cell_type": "code",
   "execution_count": 2,
   "id": "727a74e0-3758-4fc3-a16e-02d23a1aaf5a",
   "metadata": {},
   "outputs": [
    {
     "name": "stdin",
     "output_type": "stream",
     "text": [
      "Enter an integer (0 to exit):  26\n"
     ]
    },
    {
     "name": "stdout",
     "output_type": "stream",
     "text": [
      "Shifted right:  13\n",
      "Shifted right:  6\n",
      "Shifted right:  3\n",
      "Shifted right:  1\n",
      "Shifted right:  0\n"
     ]
    }
   ],
   "source": [
    "def main():\n",
    "    # Read an integer from the user\n",
    "    number = int(input(\"Enter an integer (0 to exit): \"))\n",
    "\n",
    "    while number != 0:\n",
    "        # Right shift by 1 (equivalent to integer division by 2)\n",
    "        number = number >> 1\n",
    "        print(\"Shifted right: \", number)\n",
    "\n",
    "if __name__ == \"__main__\":\n",
    "    main()\n"
   ]
  },
  {
   "cell_type": "code",
   "execution_count": null,
   "id": "c103a2a6-8b98-4e30-9e7d-2396c6257c07",
   "metadata": {},
   "outputs": [],
   "source": []
  }
 ],
 "metadata": {
  "kernelspec": {
   "display_name": "Python 3 (ipykernel)",
   "language": "python",
   "name": "python3"
  },
  "language_info": {
   "codemirror_mode": {
    "name": "ipython",
    "version": 3
   },
   "file_extension": ".py",
   "mimetype": "text/x-python",
   "name": "python",
   "nbconvert_exporter": "python",
   "pygments_lexer": "ipython3",
   "version": "3.12.0"
  }
 },
 "nbformat": 4,
 "nbformat_minor": 5
}
