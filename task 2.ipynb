{
 "cells": [
  {
   "cell_type": "code",
   "execution_count": 3,
   "id": "364bd056-e92d-4025-99aa-43403506dc4f",
   "metadata": {},
   "outputs": [
    {
     "name": "stdin",
     "output_type": "stream",
     "text": [
      "Enter steering angle (0-359):  200\n",
      "Enter task flag (0 or 1):  1\n",
      "Enter speed (0-127):  30\n"
     ]
    },
    {
     "name": "stdout",
     "output_type": "stream",
     "text": [
      "Byte 1: 11001000 (200)\n",
      "Byte 2: 10011110 (158)\n"
     ]
    }
   ],
   "source": [
    "def generate_av_instruction(angle, task_flag, speed):\n",
    "    # Validate input\n",
    "    if not (0 <= angle <= 359):\n",
    "        raise ValueError(\"Angle must be between 0 and 359\")\n",
    "    if not (task_flag in [0, 1]):\n",
    "        raise ValueError(\"Task flag must be 0 or 1\")\n",
    "    if not (0 <= speed <= 127):\n",
    "        raise ValueError(\"Speed must be between 0 and 127\")\n",
    "\n",
    "    # Combine into 16-bit integer:\n",
    "    # 9 bits for angle, 1 bit for task flag, 7 bits for speed\n",
    "    instruction = (angle << 8) | (task_flag << 7) | speed\n",
    "\n",
    "    # Split into two bytes\n",
    "    byte1 = (instruction >> 8) & 0xFF\n",
    "    byte2 = instruction & 0xFF\n",
    "\n",
    "    return byte1, byte2\n",
    "\n",
    "# Example usage\n",
    "angle = int(input(\"Enter steering angle (0-359): \"))\n",
    "task_flag = int(input(\"Enter task flag (0 or 1): \"))\n",
    "speed = int(input(\"Enter speed (0-127): \"))\n",
    "\n",
    "b1, b2 = generate_av_instruction(angle, task_flag, speed)\n",
    "print(f\"Byte 1: {format(b1, '08b')} ({b1})\")\n",
    "print(f\"Byte 2: {format(b2, '08b')} ({b2})\")\n"
   ]
  },
  {
   "cell_type": "code",
   "execution_count": null,
   "id": "5e24b196-ac30-4c58-9bdb-392378d23e11",
   "metadata": {},
   "outputs": [],
   "source": []
  }
 ],
 "metadata": {
  "kernelspec": {
   "display_name": "Python 3 (ipykernel)",
   "language": "python",
   "name": "python3"
  },
  "language_info": {
   "codemirror_mode": {
    "name": "ipython",
    "version": 3
   },
   "file_extension": ".py",
   "mimetype": "text/x-python",
   "name": "python",
   "nbconvert_exporter": "python",
   "pygments_lexer": "ipython3",
   "version": "3.12.0"
  }
 },
 "nbformat": 4,
 "nbformat_minor": 5
}
